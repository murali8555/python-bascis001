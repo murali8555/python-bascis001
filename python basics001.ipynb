{
  "nbformat": 4,
  "nbformat_minor": 0,
  "metadata": {
    "colab": {
      "provenance": []
    },
    "kernelspec": {
      "name": "python3",
      "display_name": "Python 3"
    },
    "language_info": {
      "name": "python"
    }
  },
  "cells": [
    {
      "cell_type": "code",
      "execution_count": null,
      "metadata": {
        "id": "OVafGqT32MqK"
      },
      "outputs": [],
      "source": []
    },
    {
      "cell_type": "markdown",
      "source": [
        "# What is python?\n",
        "- Python is a programming language that is interpreted, object-oriented, and considered to be high-level too. What is Python? Python is one of the easiest yet most useful programming languages which is widely used in the software industry. People use Python for Competitive Programming, Web Development, and creating software. Due to its easiest syntax, it is recommended for beginners who are new to the software engineering field. Its demand is growing at a very rapid pace due to its vast use cases in Modern Technological fields like Data Science, Machine learning, and Automation Tasks. For many years now, it has been ranked among the top Programming languages.\n",
        "-Today Python is used in all kinds of development from game development, basic programming, and scripting to large and complex software development. It has a large community support and is rich in the library, having all kinds of frameworks for backend, frontend and you name it python has it all. So, as a technical enthusiast, you will definitely come across Python in this technological journey of yours, so you should know basic fundamentals of Python to get a better understanding of it and for that, you can learn about the history of Python, its features, advantages and disadvantages, and applications in this article.\n",
        "\n",
        "What is Python?\n",
        "- Python is a set of instructions that we give in the form of a Program to our computer to perform any specific task. It is a Programming language having properties like it is interpreted, object-oriented and it is high-level too. Due to its beginner-friendly syntax, it became a clear choice for beginners to start their programming journey. The major focus behind creating it is making it easier for developers to read and understand, also reducing the lines of code.\n",
        "\n",
        "History of python\n",
        "- Python was created in 1980s by Guido van Rossum. During his research at the National Research Institute for Mathematics and Computer Science in the Netherlands, he created Python – a super easy programming language in terms of reading and usage. The first ever version was released in the year 1991 which had only a few built-in data types and basic functionality.\n",
        "\n",
        "- Later, when it gained popularity among scientists for numerical computations and data analysis, in 1994, Python 1.0 was released with extra features like map, lambda, and filter functions. After that adding new functionalities and releasing newer versions of Python came into fashion.\n",
        "\n",
        "- Python 1.5 released in 1997\n",
        "- Python 2.0 released in 2000\n",
        "- Python 3.0 in 2008 brought newer functionalities\n",
        "- The latest version of Python, Python 3.11 was released in 2022.\n",
        "\n",
        "- Newer functionalities being added to Python makes it more beneficial for developers and improved its performance. In recent years, Python has gained a lot of popularity and is a highly demanding programming language. It has spread its demand in various fields which includes machine learning, artificial intelligence, data analysis, web development, and many more giving you a high-paying job. To get more in depth knowledge on Python, explore Python Free course a self paced guide to learn Python easily.\n",
        "\n",
        "What are the comments\n",
        "- Comments in Python are the lines in the code that are ignored by the interpreter during the execution of the program.\n",
        "\n",
        "- Comments enhance the readability of the code.\n",
        "- Comment can be used to identify functionality or structure the code-base.\n",
        "- Comment can help understanding unusual or tricky scenarios handled by the code to prevent accidental removal or changes.\n",
        "- Comments can be used to prevent executing any specific part of your code, while making changes or testing.\n",
        "\n",
        "--> Single line comment\n",
        "- We can keep one hastage(#)infront of the sentence\n",
        "--> Multiline comment\n",
        "- We can multiple hastags(#) to write multiple comments in python.Each and every line will be considered as a single-line comment\n",
        "\n",
        "# example single line comments\n",
        "# My name is murali\n",
        "\n",
        "# Multiline comments\n",
        "# My name is murali\n",
        "# I am a Data scientist\n",
        "\n",
        "What are the keywords\n",
        "- python keywords are some predifind and reserved words in python that have special meanings. Keywords are used to define the syntax of the coding. The keywords cannot be used as an identifier,function,or variable name. All the keywords in python are written in lowercase except true and false.There are 35 keywords in python\n",
        "# Example\n",
        "# await      else       import     pass      break      except     in         raise class      finally    is    return and      continue   for        lambda     try as     def    from    nonlocal   while assert     del        global     not        with async      elif    if   or     yield\n",
        "\n"
      ],
      "metadata": {
        "id": "iI60ogiw2PtK"
      }
    }
  ]
}